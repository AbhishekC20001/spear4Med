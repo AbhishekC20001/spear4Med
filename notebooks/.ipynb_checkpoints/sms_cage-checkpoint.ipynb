{
 "cells": [
  {
   "cell_type": "code",
   "execution_count": 1,
   "metadata": {},
   "outputs": [],
   "source": [
    "import sys\n",
    "sys.path.append('../')\n",
    "import numpy as np"
   ]
  },
  {
   "cell_type": "code",
   "execution_count": 2,
   "metadata": {},
   "outputs": [],
   "source": [
    "from spear.Cage import Cage\n",
    "from spear.utils import get_data, get_classes"
   ]
  },
  {
   "cell_type": "code",
   "execution_count": 3,
   "metadata": {},
   "outputs": [],
   "source": [
    "path_json = '../examples/SMS_SPAM/data_pipeline/sms_json.json'\n",
    "U_path_pkl = '../examples/SMS_SPAM/data_pipeline/sms_pickle_U.pkl' #unlabelled data\n",
    "T_path_pkl = '../examples/SMS_SPAM/data_pipeline/sms_pickle_T.pkl' #test data\n",
    "log_path_1 = '../examples/SMS_SPAM/log/cage_log_1.txt'\n",
    "n_lfs = 16"
   ]
  },
  {
   "cell_type": "code",
   "execution_count": null,
   "metadata": {},
   "outputs": [],
   "source": [
    "#---------------use of get_data, get_classes------------------\n",
    "data = get_data(T_path_pkl, check_shapes=True) #check_shapes being True, asserts for relative shapes of arrays in pkl file\n",
    "classes = get_classes(path_json)\n",
    "print(\"Number of elements in data list: \", len(data))\n",
    "print(\"Classes dictionary in json file(modified to have integer keys): \", classes)"
   ]
  },
  {
   "cell_type": "code",
   "execution_count": null,
   "metadata": {},
   "outputs": [],
   "source": []
  },
  {
   "cell_type": "code",
   "execution_count": null,
   "metadata": {},
   "outputs": [],
   "source": []
  },
  {
   "cell_type": "code",
   "execution_count": null,
   "metadata": {},
   "outputs": [],
   "source": []
  }
 ],
 "metadata": {
  "kernelspec": {
   "display_name": "Python 3",
   "language": "python",
   "name": "python3"
  },
  "language_info": {
   "codemirror_mode": {
    "name": "ipython",
    "version": 3
   },
   "file_extension": ".py",
   "mimetype": "text/x-python",
   "name": "python",
   "nbconvert_exporter": "python",
   "pygments_lexer": "ipython3",
   "version": "3.6.9"
  }
 },
 "nbformat": 4,
 "nbformat_minor": 2
}
