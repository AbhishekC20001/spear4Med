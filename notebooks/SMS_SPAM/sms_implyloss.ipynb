{
 "cells": [
  {
   "cell_type": "code",
   "execution_count": 2,
   "id": "34926459",
   "metadata": {},
   "outputs": [],
   "source": [
    "# run ./my_train_TREC.sh"
   ]
  },
  {
   "cell_type": "code",
   "execution_count": 3,
   "id": "2112bca9",
   "metadata": {},
   "outputs": [],
   "source": [
    "# the output will be stored in files named by the type of dataset, the type of algorithm/method and the model instance that is being used."
   ]
  },
  {
   "cell_type": "code",
   "execution_count": 4,
   "id": "5ab4a484",
   "metadata": {},
   "outputs": [],
   "source": [
    "# run ./my_test_TREC.sh"
   ]
  },
  {
   "cell_type": "code",
   "execution_count": 5,
   "id": "0661cf26",
   "metadata": {},
   "outputs": [],
   "source": [
    "# the output will be stored in files named by the type of dataset, the type of algorithm/method and the model instance that is being used."
   ]
  }
 ],
 "metadata": {
  "kernelspec": {
   "display_name": "Python 3",
   "language": "python",
   "name": "python3"
  },
  "language_info": {
   "codemirror_mode": {
    "name": "ipython",
    "version": 3
   },
   "file_extension": ".py",
   "mimetype": "text/x-python",
   "name": "python",
   "nbconvert_exporter": "python",
   "pygments_lexer": "ipython3",
   "version": "3.8.5"
  }
 },
 "nbformat": 4,
 "nbformat_minor": 5
}
