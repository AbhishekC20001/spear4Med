{
 "cells": [
  {
   "cell_type": "markdown",
   "id": "252049ff",
   "metadata": {},
   "source": [
    "# ***Subset selection:***\n",
    "This notebook aims at demonstrating the use cases for the functions in spear library for subset selection. Subset selection is selecting a small subset of unlabeled data(or the data labeled by LFs, in case of supervised subset selection) so that it can be labeled and use that small labeled data for effective training of Cage or JL algorithms. Finding the best subset makes best use of the labeling efforts.\n"
   ]
  },
  {
   "cell_type": "code",
   "execution_count": null,
   "id": "ab47a647",
   "metadata": {},
   "outputs": [],
   "source": []
  }
 ],
 "metadata": {
  "kernelspec": {
   "display_name": "Python 3",
   "language": "python",
   "name": "python3"
  },
  "language_info": {
   "codemirror_mode": {
    "name": "ipython",
    "version": 3
   },
   "file_extension": ".py",
   "mimetype": "text/x-python",
   "name": "python",
   "nbconvert_exporter": "python",
   "pygments_lexer": "ipython3",
   "version": "3.6.9"
  }
 },
 "nbformat": 4,
 "nbformat_minor": 5
}
