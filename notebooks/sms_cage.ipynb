{
 "cells": [
  {
   "cell_type": "code",
   "execution_count": 1,
   "metadata": {},
   "outputs": [],
   "source": [
    "import sys\n",
    "sys.path.append('../')\n",
    "import numpy as np"
   ]
  },
  {
   "cell_type": "code",
   "execution_count": 2,
   "metadata": {},
   "outputs": [],
   "source": [
    "from spear.Cage import Cage\n",
    "from spear.utils import get_data, get_classes"
   ]
  },
  {
   "cell_type": "code",
   "execution_count": 3,
   "metadata": {},
   "outputs": [],
   "source": [
    "path_json = '../examples/SMS_SPAM/data_pipeline/sms_json.json'\n",
    "U_path_pkl = '../examples/SMS_SPAM/data_pipeline/sms_pickle_U.pkl' #unlabelled data\n",
    "T_path_pkl = '../examples/SMS_SPAM/data_pipeline/sms_pickle_T.pkl' #test data\n",
    "log_path_1 = '../examples/SMS_SPAM/log/cage_log_1.txt'\n",
    "n_lfs = 16"
   ]
  },
  {
   "cell_type": "code",
   "execution_count": 5,
   "metadata": {},
   "outputs": [
    {
     "name": "stdout",
     "output_type": "stream",
     "text": [
      "Number of elements in data list:  10\n",
      "Shape of feature matrix:  (200, 1024)\n",
      "Shape of labels matrix after applying LFs:  (200, 16)\n",
      "Shape of continuous scores matrix after applying (continuous )LFs:  (200, 16)\n",
      "Total number of classes:  2\n",
      "Classes dictionary in json file(modified to have integer keys):  {1: 'SPAM', 0: 'HAM'}\n"
     ]
    }
   ],
   "source": [
    "#---------------use of get_data, get_classes------------------\n",
    "data = get_data(T_path_pkl, check_shapes=True) #check_shapes being True, asserts for relative shapes of arrays in pkl file\n",
    "classes = get_classes(path_json)\n",
    "print(\"Number of elements in data list: \", len(data))\n",
    "print(\"Shape of feature matrix: \", data[0].shape)\n",
    "print(\"Shape of labels matrix after applying LFs: \", data[1].shape)\n",
    "print(\"Shape of continuous scores matrix after applying (continuous )LFs: \", data[6].shape)\n",
    "print(\"Total number of classes: \", data[9])\n",
    "print(\"Classes dictionary in json file(modified to have integer keys): \", classes)"
   ]
  },
  {
   "cell_type": "code",
   "execution_count": 8,
   "metadata": {},
   "outputs": [],
   "source": [
    "cage = Cage(path_json, n_lfs)"
   ]
  },
  {
   "cell_type": "code",
   "execution_count": 9,
   "metadata": {},
   "outputs": [
    {
     "name": "stdout",
     "output_type": "stream",
     "text": [
      "final_accuracy_score: 0.76\n",
      "average_metric: binary\tf1_score: 0.5000000000000001\n",
      "probs shape:  (5174, 2)\n",
      "labels shape:  (5174,)\n"
     ]
    }
   ],
   "source": [
    "#---------------use of fit_and_predict_proba------------------\n",
    "probs = cage.fit_and_predict_proba(U_path_pkl, T_path_pkl, log_path_1)\n",
    "labels = np.argmax(probs, 1)\n",
    "print(\"probs shape: \", probs.shape)\n",
    "print(\"labels shape: \",labels.shape)"
   ]
  },
  {
   "cell_type": "code",
   "execution_count": 10,
   "metadata": {},
   "outputs": [
    {
     "name": "stdout",
     "output_type": "stream",
     "text": [
      "final_accuracy_score: 0.775\n",
      "average_metric: binary\tf1_score: 0.5161290322580645\n",
      "labels shape:  (5174,)\n"
     ]
    }
   ],
   "source": [
    "#---------------use of fit_and_predict with output as integers used in Enum class------------------\n",
    "labels = cage.fit_and_predict(U_path_pkl, T_path_pkl, log_path_1, need_strings=False)\n",
    "print(\"labels shape: \", labels.shape)"
   ]
  },
  {
   "cell_type": "code",
   "execution_count": 11,
   "metadata": {},
   "outputs": [
    {
     "name": "stdout",
     "output_type": "stream",
     "text": [
      "final_accuracy_score: 0.765\n",
      "average_metric: binary\tf1_score: 0.5154639175257731\n",
      "labels_strings shape:  (5174,)\n"
     ]
    }
   ],
   "source": [
    "#---------------use of fit_and_predict with output as class names used in Enum class------------------\n",
    "labels_strings = cage.fit_and_predict(U_path_pkl, T_path_pkl, log_path_1, need_strings=True)\n",
    "print(\"labels_strings shape: \", labels_strings.shape)"
   ]
  },
  {
   "cell_type": "code",
   "execution_count": null,
   "metadata": {},
   "outputs": [],
   "source": []
  }
 ],
 "metadata": {
  "kernelspec": {
   "display_name": "Python 3",
   "language": "python",
   "name": "python3"
  },
  "language_info": {
   "codemirror_mode": {
    "name": "ipython",
    "version": 3
   },
   "file_extension": ".py",
   "mimetype": "text/x-python",
   "name": "python",
   "nbconvert_exporter": "python",
   "pygments_lexer": "ipython3",
   "version": "3.6.9"
  }
 },
 "nbformat": 4,
 "nbformat_minor": 2
}
